{
  "cells": [
    {
      "cell_type": "code",
      "source": [
        "import matplotlib.pyplot as plt\n",
        "plt.rcParams['figure.figsize'] = [14, 10]"
      ],
      "outputs": [],
      "execution_count": 1,
      "metadata": {
        "autoscroll": false,
        "collapsed": false,
        "ein.hycell": false,
        "ein.tags": "worksheet-0",
        "slideshow": {
          "slide_type": "-"
        }
      }
    },
    {
      "cell_type": "code",
      "source": [
        "from __future__ import print_function\n",
        "from pprint import pprint\n",
        "from time import time\n",
        "import random\n",
        "import logging\n",
        "import seaborn as sns\n",
        "import numpy as np\n",
        "import pandas as pd\n",
        "from sklearn import metrics\n",
        "from sklearn.model_selection import cross_val_score\n",
        "from sklearn.naive_bayes import MultinomialNB\n",
        "from sklearn.linear_model import LogisticRegression\n",
        "from sklearn.decomposition import TruncatedSVD\n",
        "from sklearn.manifold import TSNE, MDS\n",
        "from bs4 import BeautifulSoup\n",
        "from sklearn.feature_extraction.text import TfidfVectorizer, CountVectorizer\n",
        "from sklearn.feature_extraction.text import TfidfTransformer\n",
        "from sklearn.model_selection import GridSearchCV\n",
        "from sklearn.pipeline import Pipeline\n",
        "\n",
        "def preprocess(s):\n",
        "    s = BeautifulSoup(s, 'html5lib').get_text()\n",
        "    s = ' '.join(s.split())\n",
        "    s = s.strip().lower()\n",
        "    return s"
      ],
      "outputs": [],
      "execution_count": 2,
      "metadata": {
        "autoscroll": false,
        "collapsed": false,
        "ein.hycell": false,
        "ein.tags": "worksheet-0",
        "slideshow": {
          "slide_type": "-"
        }
      }
    },
    {
      "cell_type": "code",
      "source": [
        "# load and randomize\n",
        "\n",
        "yelps = pd.read_csv('sentiment/yelps.csv').sample(frac=1.)\n",
        "movies = pd.read_csv('sentiment/movies.csv').sample(frac=1.)"
      ],
      "outputs": [],
      "execution_count": 3,
      "metadata": {
        "autoscroll": false,
        "collapsed": false,
        "ein.hycell": false,
        "ein.tags": "worksheet-0",
        "slideshow": {
          "slide_type": "-"
        }
      }
    },
    {
      "cell_type": "markdown",
      "source": [
        "## Inspecting p(X) of the BOW vectorizers\n",
        "\n",
        "Assuming that our data consists of discrete features, as in the Bag of Words models we have seen so far, visualizing $p(X)$ consists of visualizing the PMF of a multionomial distribution that consists of all the features in our data. \n",
        "\n",
        "Of course, this is a very wide distribution, even if we just include unigrams. \n",
        "\n",
        "Thus, we will visualize just the most popular features. \n",
        "\n",
        "We will see how, given the most popular features of one dataset, the other dataset compares. "
      ],
      "metadata": {
        "ein.tags": "worksheet-0",
        "slideshow": {
          "slide_type": "-"
        }
      }
    },
    {
      "cell_type": "code",
      "source": [
        "from copy import deepcopy\n",
        "\n",
        "def _train_and_transform(vectorizer, X):\n",
        "    vectorizer.fit(X)\n",
        "    return vectorizer, vectorizer.transform(X)\n",
        "\n",
        "def compare(vectorizer, A, B):\n",
        "    vec_A, VA = _train_and_transform(deepcopy(vectorizer), A) \n",
        "    vec_B, VB = _train_and_transform(deepcopy(vectorizer), B)\n",
        "\n",
        "    # Get the most popular words for A ignoring the top 25 super common words\n",
        "    sums = np.array(VA.sum(0)).reshape(-1)\n",
        "    tops = np.argsort(sums)[-325:-25]\n",
        "    freqs_A = sums[tops]\n",
        "\n",
        "    features = np.array(vec_A.get_feature_names())[tops]\n",
        "\n",
        "    idxs = np.array([vec_B.vocabulary_.get(s) for s in features])\n",
        "    sums = np.array(VB.sum(0)).reshape(-1)\n",
        "    freqs_B = [sums[i] if i else 0. for i in idxs]\n",
        "\n",
        "    return pd.concat([pd.DataFrame({ 'word': features, 'dataset': d, 'freq': f }) \n",
        "                      for d,f in [('A',freqs_A), ('B',freqs_B)]])"
      ],
      "outputs": [],
      "execution_count": 4,
      "metadata": {
        "autoscroll": false,
        "collapsed": false,
        "ein.hycell": false,
        "ein.tags": "worksheet-0",
        "slideshow": {
          "slide_type": "-"
        }
      }
    },
    {
      "cell_type": "code",
      "source": [
        "vectorizer = TfidfVectorizer(preprocessor = preprocess, min_df = 1, use_idf=False)\n",
        "df = compare(vectorizer, yelps.sample(500).text, movies.sample(500).text)"
      ],
      "outputs": [],
      "execution_count": 5,
      "metadata": {
        "autoscroll": false,
        "collapsed": false,
        "ein.hycell": false,
        "ein.tags": "worksheet-0",
        "slideshow": {
          "slide_type": "-"
        }
      }
    },
    {
      "cell_type": "code",
      "source": [
        "sns.barplot(x = 'word', \n",
        "            y = 'freq', \n",
        "            data = df[df.dataset == 'A'])"
      ],
      "outputs": [
        {
          "output_type": "execute_result",
          "execution_count": 6,
          "data": {
            "text/plain": [
              "<matplotlib.axes._subplots.AxesSubplot at 0x1a22cf5400>"
            ]
          },
          "metadata": {}
        },
        {
          "output_type": "display_data",
          "data": {
            "text/plain": [
              "<Figure size 432x288 with 1 Axes>"
            ],
            "image/png": "[encoded data removed]"
          },
          "metadata": {}
        }
      ],
      "execution_count": 6,
      "metadata": {
        "autoscroll": false,
        "collapsed": false,
        "ein.hycell": false,
        "ein.tags": "worksheet-0",
        "slideshow": {
          "slide_type": "-"
        }
      }
    },
    {
      "cell_type": "code",
      "source": [
        "sns.barplot(x = 'word', \n",
        "            y = 'freq', \n",
        "            data = df[df.dataset == 'B'])"
      ],
      "outputs": [
        {
          "output_type": "execute_result",
          "execution_count": 7,
          "data": {
            "text/plain": [
              "<matplotlib.axes._subplots.AxesSubplot at 0x10fbe5c18>"
            ]
          },
          "metadata": {}
        },
        {
          "output_type": "display_data",
          "data": {
            "text/plain": [
              "<Figure size 432x288 with 1 Axes>"
            ],
            "image/png": "[encoded data removed]"
          },
          "metadata": {}
        }
      ],
      "execution_count": 7,
      "metadata": {
        "autoscroll": false,
        "collapsed": false,
        "ein.hycell": false,
        "ein.tags": "worksheet-0",
        "slideshow": {
          "slide_type": "-"
        }
      }
    },
    {
      "cell_type": "markdown",
      "source": [
        "## Generative vs. Discriminative\n",
        "\n",
        "Play around with the following plotting function. Is this consisten with the theoretical results of Ng and Jordan? Can you get the opposite results? Why? "
      ],
      "metadata": {
        "ein.tags": "worksheet-0",
        "slideshow": {
          "slide_type": "-"
        }
      }
    },
    {
      "cell_type": "code",
      "source": [
        "vec_Yelp, V_Yelp = _train_and_transform(deepcopy(vectorizer),yelps.text)\n",
        "V = V_Yelp\n",
        "y = yelps.positive\n",
        "\n",
        "def _cv_score(V, y, models):\n",
        "    return [{ 'name': name, 'value': np.mean(cross_val_score(model, V, y, cv=3)) } \n",
        "            for name, model in models]\n",
        "\n",
        "def plot_cv_scores(V, y, models, ticks):\n",
        "    scores = [_cv_score(V[:t], y[:t], models) for t in ticks]        \n",
        "    scores = [({'N': np.log(t) , **i}) for t,s in zip(ticks, scores) for i in s]\n",
        "    df = pd.DataFrame(scores)\n",
        "    return sns.lineplot(y='value', x='N', hue='name', data=df)\n",
        "\n",
        "models = [('NB', MultinomialNB(fit_prior=False)), ('LR', LogisticRegression())]\n",
        "\n",
        "plot_cv_scores(V, y, models, [300, 600, 1200, 2400, 4800, 9600, 19200])"
      ],
      "outputs": [
        {
          "output_type": "stream",
          "name": "stderr",
          "text": [
            "/Applications/anaconda3/lib/python3.6/site-packages/bs4/__init__.py:219: UserWarning: \"b'..'\" looks like a filename, not markup. You should probably open this file and pass the filehandle into Beautiful Soup.\n",
            "  ' Beautiful Soup.' % markup)\n",
            "/Applications/anaconda3/lib/python3.6/site-packages/bs4/__init__.py:282: UserWarning: \"https://www.consumeraffairs.com/news/mypillow-gets-a-rude-awakening-as-the-better-business-bureau-gives-it-an-f-010517.html\" looks like a URL. Beautiful Soup is not an HTTP client. You should probably use an HTTP client like requests to get the document behind the URL, and feed that document to Beautiful Soup.\n",
            "  ' that document to Beautiful Soup.' % decoded_markup\n",
            "/Applications/anaconda3/lib/python3.6/site-packages/bs4/__init__.py:219: UserWarning: \"b'..'\" looks like a filename, not markup. You should probably open this file and pass the filehandle into Beautiful Soup.\n",
            "  ' Beautiful Soup.' % markup)\n",
            "/Applications/anaconda3/lib/python3.6/site-packages/bs4/__init__.py:219: UserWarning: \"b'..'\" looks like a filename, not markup. You should probably open this file and pass the filehandle into Beautiful Soup.\n",
            "  ' Beautiful Soup.' % markup)\n",
            "/Applications/anaconda3/lib/python3.6/site-packages/bs4/__init__.py:282: UserWarning: \"https://www.consumeraffairs.com/news/mypillow-gets-a-rude-awakening-as-the-better-business-bureau-gives-it-an-f-010517.html\" looks like a URL. Beautiful Soup is not an HTTP client. You should probably use an HTTP client like requests to get the document behind the URL, and feed that document to Beautiful Soup.\n",
            "  ' that document to Beautiful Soup.' % decoded_markup\n",
            "/Applications/anaconda3/lib/python3.6/site-packages/bs4/__init__.py:219: UserWarning: \"b'..'\" looks like a filename, not markup. You should probably open this file and pass the filehandle into Beautiful Soup.\n",
            "  ' Beautiful Soup.' % markup)\n"
          ]
        },
        {
          "output_type": "execute_result",
          "execution_count": 9,
          "data": {
            "text/plain": [
              "<matplotlib.axes._subplots.AxesSubplot at 0x1a25346f60>"
            ]
          },
          "metadata": {}
        },
        {
          "output_type": "display_data",
          "data": {
            "text/plain": [
              "<Figure size 432x288 with 1 Axes>"
            ],
            "image/png": "[encoded data removed]"
          },
          "metadata": {}
        }
      ],
      "execution_count": 9,
      "metadata": {
        "autoscroll": false,
        "collapsed": false,
        "ein.hycell": false,
        "ein.tags": "worksheet-0",
        "slideshow": {
          "slide_type": "slide"
        }
      }
    },
    {
      "cell_type": "markdown",
      "source": [
        "## Searching the Grid\n",
        "\n",
        "Hyperparameter tuning, in its simplest form, can be done via a grid search. \n",
        "\n",
        "We can use cross validation to estimate the out-of-sample expected risk. \n",
        "\n",
        "SKlearn gives us a very nice package for this: GridSearchCV\n",
        "\n",
        "The API can be a bit complicated at first glance, but it's simple once you get used to it and comfortable with the idea of a \"pipeline\". \n",
        "\n",
        "https://scikit-learn.org/stable/auto_examples/model_selection/grid_search_text_feature_extraction.html "
      ],
      "metadata": {
        "ein.tags": "worksheet-0",
        "slideshow": {
          "slide_type": "-"
        }
      }
    },
    {
      "cell_type": "code",
      "source": [
        "# Perform this on a smaller sample of the data to not break your machine\n",
        "random.seed(11)\n",
        "yelps = yelps.sample(10000)\n",
        "movies = movies.sample(10000)\n",
        "\n",
        "pipeline = Pipeline([\n",
        "    ('vect', TfidfVectorizer()),\n",
        "    ('LR', LogisticRegression())\n",
        "])\n",
        "\n",
        "parameters = {\n",
        "    'vect__min_df': (1,5),\n",
        "    'vect__preprocessor': (preprocess,None), \n",
        "    'vect__use_idf': (False, True),\n",
        "    'vect__stop_words': ('english', None),\n",
        "    'LR__C': (1,5,10),\n",
        "    'LR__max_iter': (10, 20)\n",
        "}"
      ],
      "outputs": [],
      "execution_count": 10,
      "metadata": {
        "autoscroll": false,
        "collapsed": false,
        "ein.hycell": false,
        "ein.tags": "worksheet-0",
        "slideshow": {
          "slide_type": "-"
        }
      }
    },
    {
      "cell_type": "markdown",
      "source": [
        "## Crosstraining\n",
        "\n",
        "Test how well your model, when trained on one dataset, performs on the other. \n",
        "\n",
        "To do this, make sure that you: \n",
        "\n",
        "1. You perform the \"fitting\" of both the vectorizer and the model on one of the sets"
      ],
      "metadata": {
        "ein.tags": "worksheet-0",
        "slideshow": {
          "slide_type": "-"
        }
      }
    },
    {
      "cell_type": "code",
      "source": [
        "grid_search = GridSearchCV(pipeline, parameters, cv=5, n_jobs=7,verbose=1)\n",
        "print(\"Performing grid search...\")\n",
        "print(\"pipeline:\", [name for name, _ in pipeline.steps])\n",
        "print(\"parameters:\")\n",
        "pprint(parameters)\n",
        "t0 = time()\n",
        "grid_search.fit(yelps.text, yelps.positive)\n",
        "print(\"done in %0.3fs\" % (time() - t0))\n",
        "print()\n",
        "print(\"Best score: %0.3f\" % grid_search.best_score_)\n",
        "print(\"Best parameters set:\")\n",
        "best_parameters = grid_search.best_estimator_.get_params()\n",
        "for param_name in sorted(parameters.keys()):\n",
        "    print(\"\\t%s: %r\" % (param_name, best_parameters[param_name]))"
      ],
      "outputs": [
        {
          "output_type": "stream",
          "name": "stdout",
          "text": [
            "Performing grid search...\n",
            "pipeline: ['vect', 'LR']\n",
            "parameters:\n",
            "{'LR__C': (1, 5, 10),\n",
            " 'LR__max_iter': (10, 20),\n",
            " 'vect__min_df': (1, 5),\n",
            " 'vect__preprocessor': (<function preprocess at 0x11bd43400>, None),\n",
            " 'vect__stop_words': ('english', None),\n",
            " 'vect__use_idf': (False, True)}\n",
            "Fitting 5 folds for each of 96 candidates, totalling 480 fits\n",
            "done in 931.817s\n",
            "\n",
            "Best score: 0.952\n",
            "Best parameters set:\n",
            "\tLR__C: 10\n",
            "\tLR__max_iter: 10\n",
            "\tvect__min_df: 1\n",
            "\tvect__preprocessor: <function preprocess at 0x11bd43400>\n",
            "\tvect__stop_words: None\n",
            "\tvect__use_idf: True\n"
          ]
        },
        {
          "output_type": "stream",
          "name": "stderr",
          "text": [
            "[Parallel(n_jobs=7)]: Done  36 tasks      | elapsed:  1.1min\n",
            "[Parallel(n_jobs=7)]: Done 186 tasks      | elapsed:  6.3min\n",
            "[Parallel(n_jobs=7)]: Done 436 tasks      | elapsed: 14.1min\n",
            "[Parallel(n_jobs=7)]: Done 480 out of 480 | elapsed: 15.4min finished\n"
          ]
        }
      ],
      "execution_count": 11,
      "metadata": {
        "collapsed": false,
        "outputHidden": false,
        "inputHidden": false
      }
    },
    {
      "cell_type": "markdown",
      "source": [
        "2. Use the \"transform\" of the vectorizer to transform the second dataset into the same feature space (X) that your model was trained on. "
      ],
      "metadata": {}
    },
    {
      "cell_type": "code",
      "source": [
        "best_vectorizer = best_parameters[\"vect\"]\n",
        "movies_trans = best_vectorizer.transform(movies['text'])"
      ],
      "outputs": [],
      "execution_count": 12,
      "metadata": {
        "collapsed": false,
        "outputHidden": false,
        "inputHidden": false
      }
    },
    {
      "cell_type": "markdown",
      "source": [
        "3. Use the \"predict\" of your model to see how well it did on the second dataset. "
      ],
      "metadata": {}
    },
    {
      "cell_type": "code",
      "source": [
        "best_classifier = best_parameters[\"LR\"]\n",
        "pred_movies  = best_classifier.predict(movies_trans)\n",
        "print('Cross-Training-Score:',metrics.accuracy_score(movies.positive, pred_movies))\n",
        "print()"
      ],
      "outputs": [
        {
          "output_type": "stream",
          "name": "stdout",
          "text": [
            "Cross-Training-Score: 0.7684\n",
            "\n"
          ]
        }
      ],
      "execution_count": 13,
      "metadata": {
        "collapsed": false,
        "outputHidden": false,
        "inputHidden": false
      }
    },
    {
      "cell_type": "markdown",
      "source": [
        "\n",
        "__How well does your model generalize from one to the other? What does this say about \"sentiment\"?__\n",
        "\n",
        "The model does not generalise well. This implies that the language/sentiment used \n",
        "to characterize the quality of restaurants is different to the language used \n",
        "to rate movies.\n",
        "\n",
        "\n"
      ],
      "metadata": {}
    }
  ],
  "metadata": {
    "kernelspec": {
      "name": "python3",
      "language": "python",
      "display_name": "Python 3"
    },
    "language_info": {
      "name": "python",
      "version": "3.6.5",
      "mimetype": "text/x-python",
      "codemirror_mode": {
        "name": "ipython",
        "version": 3
      },
      "pygments_lexer": "ipython3",
      "nbconvert_exporter": "python",
      "file_extension": ".py"
    },
    "name": "exercise-2.ipynb",
    "kernel_info": {
      "name": "python3"
    },
    "nteract": {
      "version": "0.13.0"
    }
  },
  "nbformat": 4,
  "nbformat_minor": 2
}